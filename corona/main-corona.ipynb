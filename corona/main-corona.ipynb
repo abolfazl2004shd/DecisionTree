{
 "cells": [
  {
   "cell_type": "markdown",
   "id": "7ee03b74",
   "metadata": {},
   "source": [
    "## COVID-19 challenge\n",
    "\n",
    ">COVID-19 testing data for trend analysis and policy-making.\n",
    ">\n",
    ">TODO: for more information read [dataset page](https://www.kaggle.com/datasets/expertjha001/corona-tested-dataset)"
   ]
  },
  {
   "cell_type": "markdown",
   "id": "966e9023",
   "metadata": {},
   "source": [
    "## Importing Libraries"
   ]
  },
  {
   "cell_type": "code",
   "execution_count": 1,
   "id": "9e7b25d0",
   "metadata": {
    "lines_to_next_cell": 1
   },
   "outputs": [],
   "source": [
    "import sys\n",
    "sys.path.append('..')\n",
    "import numpy as np\n",
    "import pandas as pd\n",
    "from sklearn.model_selection import train_test_split\n",
    "from sklearn.preprocessing import LabelEncoder\n",
    "from sklearn.metrics import accuracy_score\n",
    "from decision_tree import MultiNodeCategoricalDecisionTree"
   ]
  },
  {
   "cell_type": "markdown",
   "id": "3afbef36",
   "metadata": {},
   "source": [
    "## Loading the Dataset\n",
    "\n",
    "TODO: Replace this section with code to load your actual dataset.\n",
    "\n",
    "In this section, you should:\n",
    "1. Load your dataset from a file (CSV, Excel, etc.) or a database\n",
    "2. Display basic information about the dataset (shape, columns, etc.)\n",
    "3. Show the first few rows of the data"
   ]
  },
  {
   "cell_type": "code",
   "execution_count": 2,
   "id": "077ffaf4",
   "metadata": {},
   "outputs": [
    {
     "ename": "NameError",
     "evalue": "name 'pd' is not defined",
     "output_type": "error",
     "traceback": [
      "\u001b[1;31m---------------------------------------------------------------------------\u001b[0m",
      "\u001b[1;31mNameError\u001b[0m                                 Traceback (most recent call last)",
      "Cell \u001b[1;32mIn[2], line 7\u001b[0m\n\u001b[0;32m      4\u001b[0m    df \u001b[38;5;241m=\u001b[39m pd\u001b[38;5;241m.\u001b[39mread_csv(\u001b[38;5;124m'\u001b[39m\u001b[38;5;124mcorona_tested_006.csv\u001b[39m\u001b[38;5;124m'\u001b[39m)\n\u001b[0;32m      5\u001b[0m    \u001b[38;5;28;01mreturn\u001b[39;00m df\n\u001b[1;32m----> 7\u001b[0m data \u001b[38;5;241m=\u001b[39m \u001b[43mload_dataset\u001b[49m\u001b[43m(\u001b[49m\u001b[43m)\u001b[49m\n\u001b[0;32m      8\u001b[0m \u001b[38;5;28mprint\u001b[39m(data\u001b[38;5;241m.\u001b[39mhead())\n",
      "Cell \u001b[1;32mIn[2], line 4\u001b[0m, in \u001b[0;36mload_dataset\u001b[1;34m()\u001b[0m\n\u001b[0;32m      2\u001b[0m \u001b[38;5;28;01mdef\u001b[39;00m \u001b[38;5;21mload_dataset\u001b[39m():\n\u001b[0;32m      3\u001b[0m     \u001b[38;5;66;03m# This is a placeholder. Replace with actual data loading code.\u001b[39;00m\n\u001b[1;32m----> 4\u001b[0m    df \u001b[38;5;241m=\u001b[39m \u001b[43mpd\u001b[49m\u001b[38;5;241m.\u001b[39mread_csv(\u001b[38;5;124m'\u001b[39m\u001b[38;5;124mcorona_tested_006.csv\u001b[39m\u001b[38;5;124m'\u001b[39m)\n\u001b[0;32m      5\u001b[0m    \u001b[38;5;28;01mreturn\u001b[39;00m df\n",
      "\u001b[1;31mNameError\u001b[0m: name 'pd' is not defined"
     ]
    }
   ],
   "source": [
    "# TODO: Load the actual dataset\n",
    "def load_dataset():\n",
    "    # This is a placeholder. Replace with actual data loading code.\n",
    "   df = pd.read_csv('corona_tested_006.csv')\n",
    "   return df\n",
    "\n",
    "data = load_dataset()\n",
    "print(data.head())\n"
   ]
  },
  {
   "cell_type": "markdown",
   "id": "c63a56c4",
   "metadata": {},
   "source": [
    "## Exploratory Data Analysis (EDA)\n",
    "\n",
    "TODO: Perform exploratory data analysis on your dataset.\n",
    "\n",
    "In this section, you should:\n",
    "1. Analyze the distribution of features and target variable\n",
    "2. Check for missing values and outliers\n",
    "3. Visualize relationships between features and the target variable\n",
    "4. Identify any patterns or correlations in the data"
   ]
  },
  {
   "cell_type": "code",
   "execution_count": null,
   "id": "5cbd17dd",
   "metadata": {},
   "outputs": [],
   "source": [
    "# TODO: Add your EDA code here\n",
    "# Example:\n",
    "# print(data.describe())\n",
    "# print(data.isnull().sum())\n",
    "# Add visualizations using matplotlib or seaborn"
   ]
  },
  {
   "cell_type": "markdown",
   "id": "5b4c9bc9",
   "metadata": {},
   "source": [
    "## Preprocessing\n",
    "\n",
    "TODO: Preprocess your data to prepare it for the decision tree model.\n",
    "\n",
    "In this section, you should:\n",
    "1. Handle missing values (if any)\n",
    "2. Encode categorical variables\n",
    "3. Split the data into features (X) and target (y)\n",
    "4. Split the data into training and testing sets\n",
    "\n",
    "Note: You should encode your data before splitting it into features and target, \n",
    "because the decision tree classifier works with categorical data.\n",
    "\n",
    "Example of encoding data:\n"
   ]
  },
  {
   "cell_type": "code",
   "execution_count": null,
   "id": "6c41710b",
   "metadata": {},
   "outputs": [],
   "source": [
    "\"\"\"\n",
    "TODO: Add your preprocessing code here\n",
    "Note : you should encode your data before split it into features and target ,\n",
    "because decision tree classifier just work with categorical data\n",
    "\n",
    "example of encoding data :\n",
    "\n",
    "le = LabelEncoder()\n",
    "X = data.drop('target', axis=1)\n",
    "y = data['target']\n",
    "\n",
    "Encode categorical features\n",
    "Features need to be encoded using OrdinalEncoder search about this function in sklearn library\n",
    "\n",
    "\"\"\"\n",
    "\n",
    "# Split the data\n",
    "X_train, X_test, y_train, y_test = # TODO : Split dataset using sklearn library ,naturally you should search about this function\n",
    "print(\"Training set shape:\", X_train.shape)\n",
    "print(\"Test set shape:\", X_test.shape)"
   ]
  },
  {
   "cell_type": "markdown",
   "id": "b37c9303",
   "metadata": {},
   "source": [
    "## Training the Model"
   ]
  },
  {
   "cell_type": "code",
   "execution_count": null,
   "id": "0ef53f81",
   "metadata": {},
   "outputs": [],
   "source": [
    "# Initialize and train the model\n",
    "model = MultiNodeCategoricalDecisionTree(max_depth=5, min_samples_split=2)\n",
    "# TODO use cross-validation for training too\n",
    "model.fit(X_train.values, y_train.values)"
   ]
  },
  {
   "cell_type": "markdown",
   "id": "ebe5a6e5",
   "metadata": {},
   "source": [
    "## Evaluating the Model"
   ]
  },
  {
   "cell_type": "code",
   "execution_count": null,
   "id": "84cea857",
   "metadata": {},
   "outputs": [],
   "source": [
    "# Make predictions\n",
    "y_pred = model.predict(X_test.values)\n",
    "\n",
    "# Ensure y_pred is in the same format as y_test\n",
    "y_pred = np.array(y_pred).astype(int)\n",
    "y_test = np.array(y_test).astype(int)\n",
    "\n",
    "# Calculate accuracy and cross validation\n",
    "\n",
    "print(f\"Accuracy: {accuracy:.4f}\")"
   ]
  },
  {
   "cell_type": "markdown",
   "id": "71c0cae0",
   "metadata": {},
   "source": [
    "## Feature Importances"
   ]
  },
  {
   "cell_type": "code",
   "execution_count": null,
   "id": "398e2c6a",
   "metadata": {
    "lines_to_next_cell": 1
   },
   "outputs": [],
   "source": [
    "# Display feature importances\n",
    "feature_importances = pd.DataFrame({\n",
    "    'feature': X.columns,\n",
    "    'importance': model.feature_importances_\n",
    "}).sort_values('importance', ascending=False)\n",
    "\n",
    "print(feature_importances)"
   ]
  },
  {
   "cell_type": "markdown",
   "id": "2d980c00",
   "metadata": {},
   "source": [
    "## Preparing Submission"
   ]
  },
  {
   "cell_type": "code",
   "execution_count": null,
   "id": "818cb505",
   "metadata": {},
   "outputs": [],
   "source": []
  }
 ],
 "metadata": {
  "jupytext": {
   "cell_metadata_filter": "-all",
   "main_language": "python",
   "notebook_metadata_filter": "-all"
  },
  "kernelspec": {
   "display_name": "Python 3",
   "language": "python",
   "name": "python3"
  },
  "language_info": {
   "codemirror_mode": {
    "name": "ipython",
    "version": 3
   },
   "file_extension": ".py",
   "mimetype": "text/x-python",
   "name": "python",
   "nbconvert_exporter": "python",
   "pygments_lexer": "ipython3",
   "version": "3.12.3"
  }
 },
 "nbformat": 4,
 "nbformat_minor": 5
}
